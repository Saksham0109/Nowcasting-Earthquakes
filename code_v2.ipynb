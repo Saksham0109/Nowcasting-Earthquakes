{
 "cells": [
  {
   "cell_type": "code",
   "execution_count": 22,
   "metadata": {},
   "outputs": [],
   "source": [
    "import numpy as np\n",
    "import pandas as pd"
   ]
  },
  {
   "cell_type": "code",
   "execution_count": 23,
   "metadata": {},
   "outputs": [],
   "source": [
    "df=pd.read_csv('data2.csv')"
   ]
  },
  {
   "cell_type": "markdown",
   "metadata": {},
   "source": [
    "## Stage 1"
   ]
  },
  {
   "cell_type": "code",
   "execution_count": 24,
   "metadata": {},
   "outputs": [],
   "source": [
    "#Select only dates when atleast 2 earthquake of atleast 3.3 magnitude occured\n",
    "df['Date ']=pd.to_datetime(df['Date '])\n",
    "df['mag']=df['mag'].astype(float)\n",
    "\n",
    "df1=df[df['mag']>=3.3]\n",
    "df1=df1.groupby('Date ').filter(lambda x: len(x)>=2)\n",
    "dates=df1['Date '].unique()"
   ]
  },
  {
   "cell_type": "code",
   "execution_count": 25,
   "metadata": {},
   "outputs": [],
   "source": [
    "#Include the previous date of the selected dates in case it is not already included\n",
    "dates=pd.to_datetime(dates)\n",
    "dates=dates-pd.DateOffset(1)\n",
    "dates=dates.strftime('%Y-%m-%d')\n",
    "dates=pd.to_datetime(dates)\n",
    "dates=dates.union(df1['Date '].unique())\n",
    "dates=dates.sort_values()"
   ]
  },
  {
   "cell_type": "code",
   "execution_count": 26,
   "metadata": {},
   "outputs": [],
   "source": [
    "df=df[df['Date '].isin(dates)]"
   ]
  },
  {
   "cell_type": "markdown",
   "metadata": {},
   "source": [
    "## Stage 2"
   ]
  },
  {
   "cell_type": "code",
   "execution_count": 27,
   "metadata": {},
   "outputs": [],
   "source": [
    "dates=df['Date '].unique()"
   ]
  },
  {
   "cell_type": "code",
   "execution_count": 28,
   "metadata": {},
   "outputs": [],
   "source": [
    "#For each date calculate the centroid\n",
    "centroids=[]\n",
    "for date in dates:\n",
    "    df1=df[df['Date ']==date]\n",
    "    lat=np.mean(df1['latitude'])\n",
    "    lon=np.mean(df1['longitude'])\n",
    "    centroids.append([date,lat,lon])"
   ]
  },
  {
   "cell_type": "code",
   "execution_count": 29,
   "metadata": {},
   "outputs": [],
   "source": [
    "Fcl=25"
   ]
  },
  {
   "cell_type": "code",
   "execution_count": 30,
   "metadata": {},
   "outputs": [],
   "source": [
    "from math import cos, asin, sqrt, pi\n",
    "\n",
    "def distance(lat1, lon1, lat2, lon2):\n",
    "    r = 6371 # km\n",
    "    p = pi / 180\n",
    "\n",
    "    a = 0.5 - cos((lat2-lat1)*p)/2 + cos(lat1*p) * cos(lat2*p) * (1-cos((lon2-lon1)*p))/2\n",
    "    return 2 * r * asin(sqrt(a))"
   ]
  },
  {
   "cell_type": "code",
   "execution_count": 31,
   "metadata": {},
   "outputs": [
    {
     "name": "stderr",
     "output_type": "stream",
     "text": [
      "/var/folders/gh/m9jxzcm10xv0dvsmvffyk2rh0000gn/T/ipykernel_22505/2382374129.py:8: SettingWithCopyWarning: \n",
      "A value is trying to be set on a copy of a slice from a DataFrame.\n",
      "Try using .loc[row_indexer,col_indexer] = value instead\n",
      "\n",
      "See the caveats in the documentation: https://pandas.pydata.org/pandas-docs/stable/user_guide/indexing.html#returning-a-view-versus-a-copy\n",
      "  df1['distance']=df1.apply(lambda x: distance(lat,lon,x['latitude'],x['longitude']),axis=1)\n"
     ]
    }
   ],
   "source": [
    "#If distance of earthquake from centroid is more than median distance * Fcl, then it is an outlier and should be removed\n",
    "outliers=[]\n",
    "for centroid in centroids:\n",
    "    date=centroid[0]\n",
    "    lat=centroid[1]\n",
    "    lon=centroid[2]\n",
    "    df1=df[df['Date ']==date]\n",
    "    df1['distance']=df1.apply(lambda x: distance(lat,lon,x['latitude'],x['longitude']),axis=1)\n",
    "    median_distance=np.median(df1['distance'])\n",
    "    df1=df1[df1['distance']<=median_distance*Fcl]\n",
    "    outliers.append(df1)\n",
    "\n",
    "#Remove outliers\n",
    "df=pd.DataFrame()\n",
    "for outlier in outliers:\n",
    "    df=df.append(outlier)"
   ]
  },
  {
   "cell_type": "markdown",
   "metadata": {},
   "source": [
    "## Stage 3"
   ]
  },
  {
   "cell_type": "code",
   "execution_count": 32,
   "metadata": {},
   "outputs": [],
   "source": [
    "Fen=1"
   ]
  },
  {
   "cell_type": "code",
   "execution_count": 33,
   "metadata": {},
   "outputs": [
    {
     "name": "stderr",
     "output_type": "stream",
     "text": [
      "/var/folders/gh/m9jxzcm10xv0dvsmvffyk2rh0000gn/T/ipykernel_22505/2018664686.py:7: RuntimeWarning: divide by zero encountered in double_scalars\n",
      "  mew= len(df1)/Rg\n"
     ]
    }
   ],
   "source": [
    "#Compute radius of gyration of each burst for each date\n",
    "#Radius of gyration is the root mean square distance of each earthquake from the centroid\n",
    "l=[]\n",
    "for date in dates:\n",
    "    df1=df[df['Date ']==date]\n",
    "    Rg=np.sqrt(np.mean(df1['distance']**2))\n",
    "    mew= len(df1)/Rg\n",
    "    if mew>Fen:\n",
    "        l.append(date)\n",
    "\n",
    "df=df[df['Date '].isin(l)]\n"
   ]
  },
  {
   "cell_type": "code",
   "execution_count": 34,
   "metadata": {},
   "outputs": [],
   "source": [
    "#Create a time series of the radius of gyration of each burst\n",
    "l=[]\n",
    "for date in dates:\n",
    "    df1=df[df['Date ']==date]\n",
    "    Rg=np.sqrt(np.mean(df1['distance']**2))\n",
    "    l.append([date,Rg])\n",
    "\n",
    "df=pd.DataFrame(l,columns=['Date ','Rg'])"
   ]
  },
  {
   "cell_type": "markdown",
   "metadata": {},
   "source": [
    "## Stage 4"
   ]
  },
  {
   "cell_type": "code",
   "execution_count": 35,
   "metadata": {},
   "outputs": [],
   "source": [
    "#Create a time series consisting of each date from the first date to the last date and the corresponding radius of gyration\n",
    "dates=pd.date_range(start=df['Date '].min(),end=df['Date '].max())\n",
    "df1=pd.DataFrame(dates,columns=['Date '])\n",
    "df1=pd.merge(df1,df,how='outer',on='Date ')"
   ]
  },
  {
   "cell_type": "code",
   "execution_count": 36,
   "metadata": {},
   "outputs": [],
   "source": [
    "df1.fillna(0,inplace=True)"
   ]
  },
  {
   "cell_type": "code",
   "execution_count": 37,
   "metadata": {},
   "outputs": [],
   "source": [
    "#Apply exponential moving average over 1 year\n",
    "df1['Rg']=df1['Rg'].ewm(span=365,adjust=False,min_periods=1).mean()"
   ]
  },
  {
   "cell_type": "code",
   "execution_count": 38,
   "metadata": {},
   "outputs": [
    {
     "data": {
      "text/html": [
       "<div>\n",
       "<style scoped>\n",
       "    .dataframe tbody tr th:only-of-type {\n",
       "        vertical-align: middle;\n",
       "    }\n",
       "\n",
       "    .dataframe tbody tr th {\n",
       "        vertical-align: top;\n",
       "    }\n",
       "\n",
       "    .dataframe thead th {\n",
       "        text-align: right;\n",
       "    }\n",
       "</style>\n",
       "<table border=\"1\" class=\"dataframe\">\n",
       "  <thead>\n",
       "    <tr style=\"text-align: right;\">\n",
       "      <th></th>\n",
       "      <th>Date</th>\n",
       "      <th>Rg</th>\n",
       "    </tr>\n",
       "  </thead>\n",
       "  <tbody>\n",
       "    <tr>\n",
       "      <th>0</th>\n",
       "      <td>1972-01-25</td>\n",
       "      <td>0.000000</td>\n",
       "    </tr>\n",
       "    <tr>\n",
       "      <th>1</th>\n",
       "      <td>1972-01-26</td>\n",
       "      <td>0.000000</td>\n",
       "    </tr>\n",
       "    <tr>\n",
       "      <th>2</th>\n",
       "      <td>1972-01-27</td>\n",
       "      <td>0.000000</td>\n",
       "    </tr>\n",
       "    <tr>\n",
       "      <th>3</th>\n",
       "      <td>1972-01-28</td>\n",
       "      <td>0.000000</td>\n",
       "    </tr>\n",
       "    <tr>\n",
       "      <th>4</th>\n",
       "      <td>1972-01-29</td>\n",
       "      <td>0.000000</td>\n",
       "    </tr>\n",
       "    <tr>\n",
       "      <th>...</th>\n",
       "      <td>...</td>\n",
       "      <td>...</td>\n",
       "    </tr>\n",
       "    <tr>\n",
       "      <th>18957</th>\n",
       "      <td>2023-12-20</td>\n",
       "      <td>0.025368</td>\n",
       "    </tr>\n",
       "    <tr>\n",
       "      <th>18958</th>\n",
       "      <td>2023-12-21</td>\n",
       "      <td>0.025230</td>\n",
       "    </tr>\n",
       "    <tr>\n",
       "      <th>18959</th>\n",
       "      <td>2023-12-22</td>\n",
       "      <td>0.025092</td>\n",
       "    </tr>\n",
       "    <tr>\n",
       "      <th>18960</th>\n",
       "      <td>2023-12-23</td>\n",
       "      <td>0.024955</td>\n",
       "    </tr>\n",
       "    <tr>\n",
       "      <th>18961</th>\n",
       "      <td>2023-12-24</td>\n",
       "      <td>0.045466</td>\n",
       "    </tr>\n",
       "  </tbody>\n",
       "</table>\n",
       "<p>18962 rows × 2 columns</p>\n",
       "</div>"
      ],
      "text/plain": [
       "           Date         Rg\n",
       "0     1972-01-25  0.000000\n",
       "1     1972-01-26  0.000000\n",
       "2     1972-01-27  0.000000\n",
       "3     1972-01-28  0.000000\n",
       "4     1972-01-29  0.000000\n",
       "...          ...       ...\n",
       "18957 2023-12-20  0.025368\n",
       "18958 2023-12-21  0.025230\n",
       "18959 2023-12-22  0.025092\n",
       "18960 2023-12-23  0.024955\n",
       "18961 2023-12-24  0.045466\n",
       "\n",
       "[18962 rows x 2 columns]"
      ]
     },
     "execution_count": 38,
     "metadata": {},
     "output_type": "execute_result"
    }
   ],
   "source": [
    "df1"
   ]
  },
  {
   "cell_type": "code",
   "execution_count": 39,
   "metadata": {},
   "outputs": [
    {
     "data": {
      "image/png": "[encoded data removed]",
      "text/plain": [
       "<Figure size 432x288 with 1 Axes>"
      ]
     },
     "metadata": {
      "needs_background": "light"
     },
     "output_type": "display_data"
    }
   ],
   "source": [
    "#Plot the time series with inverted y axis\n",
    "import matplotlib.pyplot as plt\n",
    "plt.plot(df1['Date '],df1['Rg'])\n",
    "plt.gca().invert_yaxis()\n",
    "plt.show()\n"
   ]
  }
 ],
 "metadata": {
  "kernelspec": {
   "display_name": "base",
   "language": "python",
   "name": "python3"
  },
  "language_info": {
   "codemirror_mode": {
    "name": "ipython",
    "version": 3
   },
   "file_extension": ".py",
   "mimetype": "text/x-python",
   "name": "python",
   "nbconvert_exporter": "python",
   "pygments_lexer": "ipython3",
   "version": "3.9.10"
  }
 },
 "nbformat": 4,
 "nbformat_minor": 2
}
