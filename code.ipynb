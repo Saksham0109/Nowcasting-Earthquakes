{
 "cells": [
  {
   "cell_type": "code",
   "execution_count": 23,
   "metadata": {},
   "outputs": [],
   "source": [
    "import numpy as np\n",
    "import pandas as pd"
   ]
  },
  {
   "cell_type": "code",
   "execution_count": 24,
   "metadata": {},
   "outputs": [],
   "source": [
    "df=pd.read_excel('Turkey.xlsx')\n",
    "#Rename 'Date' column as 'Date '\n",
    "df.rename(columns={'Date':'Date '},inplace=True)\n",
    "df.rename(columns={'Magnitude':'mag'},inplace=True)\n",
    "df.rename(columns={'Latitude':'latitude'},inplace=True)\n",
    "df.rename(columns={'Longitude':'longitude'},inplace=True)"
   ]
  },
  {
   "cell_type": "code",
   "execution_count": 25,
   "metadata": {},
   "outputs": [
    {
     "data": {
      "text/html": [
       "<div>\n",
       "<style scoped>\n",
       "    .dataframe tbody tr th:only-of-type {\n",
       "        vertical-align: middle;\n",
       "    }\n",
       "\n",
       "    .dataframe tbody tr th {\n",
       "        vertical-align: top;\n",
       "    }\n",
       "\n",
       "    .dataframe thead th {\n",
       "        text-align: right;\n",
       "    }\n",
       "</style>\n",
       "<table border=\"1\" class=\"dataframe\">\n",
       "  <thead>\n",
       "    <tr style=\"text-align: right;\">\n",
       "      <th></th>\n",
       "      <th>Date</th>\n",
       "      <th>Time</th>\n",
       "      <th>latitude</th>\n",
       "      <th>longitude</th>\n",
       "      <th>depth</th>\n",
       "      <th>mag</th>\n",
       "      <th>magType</th>\n",
       "    </tr>\n",
       "  </thead>\n",
       "  <tbody>\n",
       "    <tr>\n",
       "      <th>4</th>\n",
       "      <td>23-05-1961</td>\n",
       "      <td>02:45:19</td>\n",
       "      <td>36.6930</td>\n",
       "      <td>28.5940</td>\n",
       "      <td>35.000</td>\n",
       "      <td>6.40</td>\n",
       "      <td>mw</td>\n",
       "    </tr>\n",
       "    <tr>\n",
       "      <th>11</th>\n",
       "      <td>16-07-1963</td>\n",
       "      <td>18:27:19</td>\n",
       "      <td>43.1980</td>\n",
       "      <td>41.5640</td>\n",
       "      <td>30.000</td>\n",
       "      <td>6.40</td>\n",
       "      <td>mw</td>\n",
       "    </tr>\n",
       "    <tr>\n",
       "      <th>13</th>\n",
       "      <td>18-09-1963</td>\n",
       "      <td>16:58:14</td>\n",
       "      <td>40.6980</td>\n",
       "      <td>29.1590</td>\n",
       "      <td>30.000</td>\n",
       "      <td>6.14</td>\n",
       "      <td>mw</td>\n",
       "    </tr>\n",
       "    <tr>\n",
       "      <th>21</th>\n",
       "      <td>17-07-1964</td>\n",
       "      <td>02:34:27</td>\n",
       "      <td>38.0920</td>\n",
       "      <td>23.6400</td>\n",
       "      <td>152.700</td>\n",
       "      <td>6.20</td>\n",
       "      <td>mw</td>\n",
       "    </tr>\n",
       "    <tr>\n",
       "      <th>25</th>\n",
       "      <td>06-10-1964</td>\n",
       "      <td>14:31:25</td>\n",
       "      <td>40.2030</td>\n",
       "      <td>28.2060</td>\n",
       "      <td>27.400</td>\n",
       "      <td>6.80</td>\n",
       "      <td>mw</td>\n",
       "    </tr>\n",
       "    <tr>\n",
       "      <th>...</th>\n",
       "      <td>...</td>\n",
       "      <td>...</td>\n",
       "      <td>...</td>\n",
       "      <td>...</td>\n",
       "      <td>...</td>\n",
       "      <td>...</td>\n",
       "      <td>...</td>\n",
       "    </tr>\n",
       "    <tr>\n",
       "      <th>27818</th>\n",
       "      <td>06-02-2023</td>\n",
       "      <td>10:24:48</td>\n",
       "      <td>38.0106</td>\n",
       "      <td>37.1962</td>\n",
       "      <td>7.432</td>\n",
       "      <td>7.50</td>\n",
       "      <td>mww</td>\n",
       "    </tr>\n",
       "    <tr>\n",
       "      <th>27819</th>\n",
       "      <td>06-02-2023</td>\n",
       "      <td>10:26:46</td>\n",
       "      <td>38.0315</td>\n",
       "      <td>38.0984</td>\n",
       "      <td>10.000</td>\n",
       "      <td>6.00</td>\n",
       "      <td>mb</td>\n",
       "    </tr>\n",
       "    <tr>\n",
       "      <th>27846</th>\n",
       "      <td>06-02-2023</td>\n",
       "      <td>12:02:11</td>\n",
       "      <td>38.0582</td>\n",
       "      <td>36.5114</td>\n",
       "      <td>8.516</td>\n",
       "      <td>6.00</td>\n",
       "      <td>mb</td>\n",
       "    </tr>\n",
       "    <tr>\n",
       "      <th>28150</th>\n",
       "      <td>20-02-2023</td>\n",
       "      <td>17:04:29</td>\n",
       "      <td>36.1616</td>\n",
       "      <td>36.0251</td>\n",
       "      <td>16.000</td>\n",
       "      <td>6.30</td>\n",
       "      <td>mww</td>\n",
       "    </tr>\n",
       "    <tr>\n",
       "      <th>28687</th>\n",
       "      <td>16-10-2024</td>\n",
       "      <td>07:46:32</td>\n",
       "      <td>38.3136</td>\n",
       "      <td>38.8306</td>\n",
       "      <td>10.000</td>\n",
       "      <td>6.00</td>\n",
       "      <td>mww</td>\n",
       "    </tr>\n",
       "  </tbody>\n",
       "</table>\n",
       "<p>107 rows × 7 columns</p>\n",
       "</div>"
      ],
      "text/plain": [
       "            Date       Time  latitude  longitude    depth   mag magType\n",
       "4      23-05-1961  02:45:19   36.6930    28.5940   35.000  6.40      mw\n",
       "11     16-07-1963  18:27:19   43.1980    41.5640   30.000  6.40      mw\n",
       "13     18-09-1963  16:58:14   40.6980    29.1590   30.000  6.14      mw\n",
       "21     17-07-1964  02:34:27   38.0920    23.6400  152.700  6.20      mw\n",
       "25     06-10-1964  14:31:25   40.2030    28.2060   27.400  6.80      mw\n",
       "...           ...       ...       ...        ...      ...   ...     ...\n",
       "27818  06-02-2023  10:24:48   38.0106    37.1962    7.432  7.50     mww\n",
       "27819  06-02-2023  10:26:46   38.0315    38.0984   10.000  6.00      mb\n",
       "27846  06-02-2023  12:02:11   38.0582    36.5114    8.516  6.00      mb\n",
       "28150  20-02-2023  17:04:29   36.1616    36.0251   16.000  6.30     mww\n",
       "28687  16-10-2024  07:46:32   38.3136    38.8306   10.000  6.00     mww\n",
       "\n",
       "[107 rows x 7 columns]"
      ]
     },
     "execution_count": 25,
     "metadata": {},
     "output_type": "execute_result"
    }
   ],
   "source": [
    "df[df['mag']>=6]"
   ]
  },
  {
   "cell_type": "markdown",
   "metadata": {},
   "source": [
    "## Stage 1"
   ]
  },
  {
   "cell_type": "code",
   "execution_count": 26,
   "metadata": {},
   "outputs": [],
   "source": [
    "#Select only dates when atleast 2 earthquake of atleast 3.3 magnitude occured\n",
    "df['Date ']=pd.to_datetime(df['Date '])\n",
    "df['mag']=df['mag'].astype(float)\n",
    "\n",
    "df1=df[df['mag']>=3.3]\n",
    "df1=df1.groupby('Date ').filter(lambda x: len(x)>=2)\n",
    "dates=df1['Date '].unique()"
   ]
  },
  {
   "cell_type": "code",
   "execution_count": 27,
   "metadata": {},
   "outputs": [],
   "source": [
    "#Include the previous date of the selected dates in case it is not already included\n",
    "dates=pd.to_datetime(dates)\n",
    "dates=dates-pd.DateOffset(1)\n",
    "dates=dates.strftime('%Y-%m-%d')\n",
    "dates=pd.to_datetime(dates)\n",
    "dates=dates.union(df1['Date '].unique())\n",
    "dates=dates.sort_values()"
   ]
  },
  {
   "cell_type": "code",
   "execution_count": 28,
   "metadata": {},
   "outputs": [],
   "source": [
    "df=df[df['Date '].isin(dates)]"
   ]
  },
  {
   "cell_type": "markdown",
   "metadata": {},
   "source": [
    "## Stage 2"
   ]
  },
  {
   "cell_type": "code",
   "execution_count": 29,
   "metadata": {},
   "outputs": [],
   "source": [
    "dates=df['Date '].unique()"
   ]
  },
  {
   "cell_type": "code",
   "execution_count": 30,
   "metadata": {},
   "outputs": [],
   "source": [
    "#For each date calculate the centroid\n",
    "centroids=[]\n",
    "for date in dates:\n",
    "    df1=df[df['Date ']==date]\n",
    "    lat=np.mean(df1['latitude'])\n",
    "    lon=np.mean(df1['longitude'])\n",
    "    centroids.append([date,lat,lon])"
   ]
  },
  {
   "cell_type": "code",
   "execution_count": 31,
   "metadata": {},
   "outputs": [],
   "source": [
    "Fcl=25"
   ]
  },
  {
   "cell_type": "code",
   "execution_count": 32,
   "metadata": {},
   "outputs": [],
   "source": [
    "from math import cos, asin, sqrt, pi\n",
    "\n",
    "def distance(lat1, lon1, lat2, lon2):\n",
    "    r = 6371 # km\n",
    "    p = pi / 180\n",
    "\n",
    "    a = 0.5 - cos((lat2-lat1)*p)/2 + cos(lat1*p) * cos(lat2*p) * (1-cos((lon2-lon1)*p))/2\n",
    "    return 2 * r * asin(sqrt(a))"
   ]
  },
  {
   "cell_type": "code",
   "execution_count": 33,
   "metadata": {},
   "outputs": [
    {
     "name": "stderr",
     "output_type": "stream",
     "text": [
      "/var/folders/gh/m9jxzcm10xv0dvsmvffyk2rh0000gn/T/ipykernel_96901/2382374129.py:8: SettingWithCopyWarning: \n",
      "A value is trying to be set on a copy of a slice from a DataFrame.\n",
      "Try using .loc[row_indexer,col_indexer] = value instead\n",
      "\n",
      "See the caveats in the documentation: https://pandas.pydata.org/pandas-docs/stable/user_guide/indexing.html#returning-a-view-versus-a-copy\n",
      "  df1['distance']=df1.apply(lambda x: distance(lat,lon,x['latitude'],x['longitude']),axis=1)\n"
     ]
    }
   ],
   "source": [
    "#If distance of earthquake from centroid is more than median distance * Fcl, then it is an outlier and should be removed\n",
    "outliers=[]\n",
    "for centroid in centroids:\n",
    "    date=centroid[0]\n",
    "    lat=centroid[1]\n",
    "    lon=centroid[2]\n",
    "    df1=df[df['Date ']==date]\n",
    "    df1['distance']=df1.apply(lambda x: distance(lat,lon,x['latitude'],x['longitude']),axis=1)\n",
    "    median_distance=np.median(df1['distance'])\n",
    "    df1=df1[df1['distance']<=median_distance*Fcl]\n",
    "    outliers.append(df1)\n",
    "\n",
    "#Remove outliers\n",
    "df=pd.DataFrame()\n",
    "for outlier in outliers:\n",
    "    df=df.append(outlier)"
   ]
  },
  {
   "cell_type": "markdown",
   "metadata": {},
   "source": [
    "## Stage 3"
   ]
  },
  {
   "cell_type": "code",
   "execution_count": 34,
   "metadata": {},
   "outputs": [],
   "source": [
    "Fen=1"
   ]
  },
  {
   "cell_type": "code",
   "execution_count": 35,
   "metadata": {},
   "outputs": [
    {
     "name": "stderr",
     "output_type": "stream",
     "text": [
      "/var/folders/gh/m9jxzcm10xv0dvsmvffyk2rh0000gn/T/ipykernel_96901/2018664686.py:7: RuntimeWarning: divide by zero encountered in double_scalars\n",
      "  mew= len(df1)/Rg\n"
     ]
    }
   ],
   "source": [
    "#Compute radius of gyration of each burst for each date\n",
    "#Radius of gyration is the root mean square distance of each earthquake from the centroid\n",
    "l=[]\n",
    "for date in dates:\n",
    "    df1=df[df['Date ']==date]\n",
    "    Rg=np.sqrt(np.mean(df1['distance']**2))\n",
    "    mew= len(df1)/Rg\n",
    "    if mew>Fen:\n",
    "        l.append(date)\n",
    "\n",
    "df=df[df['Date '].isin(l)]\n"
   ]
  },
  {
   "cell_type": "code",
   "execution_count": 36,
   "metadata": {},
   "outputs": [],
   "source": [
    "#Create a time series of the radius of gyration of each burst\n",
    "l=[]\n",
    "for date in dates:\n",
    "    df1=df[df['Date ']==date]\n",
    "    Rg=np.sqrt(np.mean(df1['distance']**2))\n",
    "    l.append([date,Rg])\n",
    "\n",
    "df=pd.DataFrame(l,columns=['Date ','Rg'])"
   ]
  },
  {
   "cell_type": "code",
   "execution_count": 37,
   "metadata": {},
   "outputs": [
    {
     "data": {
      "text/plain": [
       "6401"
      ]
     },
     "execution_count": 37,
     "metadata": {},
     "output_type": "execute_result"
    }
   ],
   "source": [
    "len(df['Date '].unique())"
   ]
  },
  {
   "cell_type": "markdown",
   "metadata": {},
   "source": [
    "## Stage 4"
   ]
  },
  {
   "cell_type": "code",
   "execution_count": 38,
   "metadata": {},
   "outputs": [],
   "source": [
    "#Create a time series consisting of each date from the first date to the last date and the corresponding radius of gyration\n",
    "dates=pd.date_range(start=df['Date '].min(),end=df['Date '].max())\n",
    "df1=pd.DataFrame(dates,columns=['Date '])\n",
    "df1=pd.merge(df1,df,how='outer',on='Date ')"
   ]
  },
  {
   "cell_type": "code",
   "execution_count": 39,
   "metadata": {},
   "outputs": [],
   "source": [
    "df1.fillna(0,inplace=True)"
   ]
  },
  {
   "cell_type": "code",
   "execution_count": 40,
   "metadata": {},
   "outputs": [],
   "source": [
    "#Apply exponential moving average over 1 year\n",
    "df1['Rg']=df1['Rg'].ewm(span=365,adjust=False,min_periods=1).mean()"
   ]
  },
  {
   "cell_type": "code",
   "execution_count": 41,
   "metadata": {},
   "outputs": [
    {
     "data": {
      "text/html": [
       "<div>\n",
       "<style scoped>\n",
       "    .dataframe tbody tr th:only-of-type {\n",
       "        vertical-align: middle;\n",
       "    }\n",
       "\n",
       "    .dataframe tbody tr th {\n",
       "        vertical-align: top;\n",
       "    }\n",
       "\n",
       "    .dataframe thead th {\n",
       "        text-align: right;\n",
       "    }\n",
       "</style>\n",
       "<table border=\"1\" class=\"dataframe\">\n",
       "  <thead>\n",
       "    <tr style=\"text-align: right;\">\n",
       "      <th></th>\n",
       "      <th>Date</th>\n",
       "      <th>Rg</th>\n",
       "    </tr>\n",
       "  </thead>\n",
       "  <tbody>\n",
       "    <tr>\n",
       "      <th>0</th>\n",
       "      <td>1962-04-28</td>\n",
       "      <td>0.000000</td>\n",
       "    </tr>\n",
       "    <tr>\n",
       "      <th>1</th>\n",
       "      <td>1962-04-29</td>\n",
       "      <td>0.000000</td>\n",
       "    </tr>\n",
       "    <tr>\n",
       "      <th>2</th>\n",
       "      <td>1962-04-30</td>\n",
       "      <td>0.000000</td>\n",
       "    </tr>\n",
       "    <tr>\n",
       "      <th>3</th>\n",
       "      <td>1962-05-01</td>\n",
       "      <td>0.000000</td>\n",
       "    </tr>\n",
       "    <tr>\n",
       "      <th>4</th>\n",
       "      <td>1962-05-02</td>\n",
       "      <td>0.000000</td>\n",
       "    </tr>\n",
       "    <tr>\n",
       "      <th>...</th>\n",
       "      <td>...</td>\n",
       "      <td>...</td>\n",
       "    </tr>\n",
       "    <tr>\n",
       "      <th>22866</th>\n",
       "      <td>2024-12-04</td>\n",
       "      <td>0.029731</td>\n",
       "    </tr>\n",
       "    <tr>\n",
       "      <th>22867</th>\n",
       "      <td>2024-12-05</td>\n",
       "      <td>0.029569</td>\n",
       "    </tr>\n",
       "    <tr>\n",
       "      <th>22868</th>\n",
       "      <td>2024-12-06</td>\n",
       "      <td>0.029407</td>\n",
       "    </tr>\n",
       "    <tr>\n",
       "      <th>22869</th>\n",
       "      <td>2024-12-07</td>\n",
       "      <td>0.029247</td>\n",
       "    </tr>\n",
       "    <tr>\n",
       "      <th>22870</th>\n",
       "      <td>2024-12-08</td>\n",
       "      <td>0.029087</td>\n",
       "    </tr>\n",
       "  </tbody>\n",
       "</table>\n",
       "<p>22871 rows × 2 columns</p>\n",
       "</div>"
      ],
      "text/plain": [
       "           Date         Rg\n",
       "0     1962-04-28  0.000000\n",
       "1     1962-04-29  0.000000\n",
       "2     1962-04-30  0.000000\n",
       "3     1962-05-01  0.000000\n",
       "4     1962-05-02  0.000000\n",
       "...          ...       ...\n",
       "22866 2024-12-04  0.029731\n",
       "22867 2024-12-05  0.029569\n",
       "22868 2024-12-06  0.029407\n",
       "22869 2024-12-07  0.029247\n",
       "22870 2024-12-08  0.029087\n",
       "\n",
       "[22871 rows x 2 columns]"
      ]
     },
     "execution_count": 41,
     "metadata": {},
     "output_type": "execute_result"
    }
   ],
   "source": [
    "df1"
   ]
  },
  {
   "cell_type": "code",
   "execution_count": 42,
   "metadata": {},
   "outputs": [
    {
     "name": "stdout",
     "output_type": "stream",
     "text": [
      "12\n"
     ]
    },
    {
     "data": {
      "image/png": "[encoded data removed]",
      "text/plain": [
       "<Figure size 432x288 with 1 Axes>"
      ]
     },
     "metadata": {
      "needs_background": "light"
     },
     "output_type": "display_data"
    }
   ],
   "source": [
    "#Plot the time series with inverted y axis\n",
    "import matplotlib.pyplot as plt\n",
    "plt.plot(df1['Date '],df1['Rg'])\n",
    "plt.gca().invert_yaxis()\n",
    "#Plot a dotted straight line at every date with a earthquake of atleast 6.3 magnitude\n",
    "df=pd.read_excel('Turkey.xlsx')\n",
    "df['Date']=pd.to_datetime(df['Date'])\n",
    "df['mag']=df['mag'].astype(float)\n",
    "df=df[df['mag']>=7]\n",
    "print(len(df))\n",
    "for date in df['Date']:\n",
    "    plt.axvline(x=date,linestyle='--',color='black',linewidth=0.5)\n",
    "plt.show()\n"
   ]
  }
 ],
 "metadata": {
  "kernelspec": {
   "display_name": "base",
   "language": "python",
   "name": "python3"
  },
  "language_info": {
   "codemirror_mode": {
    "name": "ipython",
    "version": 3
   },
   "file_extension": ".py",
   "mimetype": "text/x-python",
   "name": "python",
   "nbconvert_exporter": "python",
   "pygments_lexer": "ipython3",
   "version": "3.9.10"
  }
 },
 "nbformat": 4,
 "nbformat_minor": 2
}
